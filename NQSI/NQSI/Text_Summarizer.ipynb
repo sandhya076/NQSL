{
  "nbformat": 4,
  "nbformat_minor": 0,
  "metadata": {
    "colab": {
      "name": "Text-Summarizer",
      "provenance": [],
      "collapsed_sections": [],
      "authorship_tag": "ABX9TyOLC7A1PBPbJWGNFgxE0E2J",
      "include_colab_link": true
    },
    "kernelspec": {
      "name": "python3",
      "display_name": "Python 3"
    },
    "language_info": {
      "name": "python"
    }
  },
  "cells": [
    {
      "cell_type": "markdown",
      "metadata": {
        "id": "view-in-github",
        "colab_type": "text"
      },
      "source": [
        "<a href=\"https://colab.research.google.com/github/rohit11544/NQSI/blob/Review-summarizer/Text_Summarizer.ipynb\" target=\"_parent\"><img src=\"https://colab.research.google.com/assets/colab-badge.svg\" alt=\"Open In Colab\"/></a>"
      ]
    },
    {
      "cell_type": "code",
      "metadata": {
        "id": "yEYd14nKz8ey"
      },
      "source": [
        "import re"
      ],
      "execution_count": null,
      "outputs": []
    },
    {
      "cell_type": "markdown",
      "source": [
        "# Expanding Contractions"
      ],
      "metadata": {
        "id": "zv-UW1Bw71kO"
      }
    },
    {
      "cell_type": "code",
      "metadata": {
        "id": "wZl6w6ggybJl"
      },
      "source": [
        "contractions = { \n",
        "\"ain't\": \"am not\",\n",
        "\"aren't\": \"are not\",\n",
        "\"can't\": \"cannot\",\n",
        "\"can't've\": \"cannot have\",\n",
        "\"'cause\": \"because\",\n",
        "\"could've\": \"could have\",\n",
        "\"couldn't\": \"could not\",\n",
        "\"couldn't've\": \"could not have\",\n",
        "\"didn't\": \"did not\",\n",
        "\"doesn't\": \"does not\",\n",
        "\"don't\": \"do not\",\n",
        "\"hadn't\": \"had not\",\n",
        "\"hadn't've\": \"had not have\",\n",
        "\"hasn't\": \"has not\",\n",
        "\"haven't\": \"have not\",\n",
        "\"he'd\": \"he would\",\n",
        "\"he'd've\": \"he would have\",\n",
        "\"he'll\": \"he will\",\n",
        "\"he's\": \"he is\",\n",
        "\"how'd\": \"how did\",\n",
        "\"how'll\": \"how will\",\n",
        "\"how's\": \"how is\",\n",
        "\"i'd\": \"i would\",\n",
        "\"i'll\": \"i will\",\n",
        "\"i'm\": \"i am\",\n",
        "\"i've\": \"i have\",\n",
        "\"isn't\": \"is not\",\n",
        "\"it'd\": \"it would\",\n",
        "\"it'll\": \"it will\",\n",
        "\"it's\": \"it is\",\n",
        "\"let's\": \"let us\",\n",
        "\"ma'am\": \"madam\",\n",
        "\"mayn't\": \"may not\",\n",
        "\"might've\": \"might have\",\n",
        "\"mightn't\": \"might not\",\n",
        "\"must've\": \"must have\",\n",
        "\"mustn't\": \"must not\",\n",
        "\"needn't\": \"need not\",\n",
        "\"oughtn't\": \"ought not\",\n",
        "\"shan't\": \"shall not\",\n",
        "\"sha'n't\": \"shall not\",\n",
        "\"she'd\": \"she would\",\n",
        "\"she'll\": \"she will\",\n",
        "\"she's\": \"she is\",\n",
        "\"should've\": \"should have\",\n",
        "\"shouldn't\": \"should not\",\n",
        "\"that'd\": \"that would\",\n",
        "\"that's\": \"that is\",\n",
        "\"there'd\": \"there had\",\n",
        "\"there's\": \"there is\",\n",
        "\"they'd\": \"they would\",\n",
        "\"they'll\": \"they will\",\n",
        "\"they're\": \"they are\",\n",
        "\"they've\": \"they have\",\n",
        "\"wasn't\": \"was not\",\n",
        "\"we'd\": \"we would\",\n",
        "\"we'll\": \"we will\",\n",
        "\"we're\": \"we are\",\n",
        "\"we've\": \"we have\",\n",
        "\"weren't\": \"were not\",\n",
        "\"what'll\": \"what will\",\n",
        "\"what're\": \"what are\",\n",
        "\"what's\": \"what is\",\n",
        "\"what've\": \"what have\",\n",
        "\"where'd\": \"where did\",\n",
        "\"where's\": \"where is\",\n",
        "\"who'll\": \"who will\",\n",
        "\"who's\": \"who is\",\n",
        "\"won't\": \"will not\",\n",
        "\"wouldn't\": \"would not\",\n",
        "\"you'd\": \"you would\",\n",
        "\"you'll\": \"you will\",\n",
        "\"you're\": \"you are\"\n",
        "}"
      ],
      "execution_count": null,
      "outputs": []
    },
    {
      "cell_type": "markdown",
      "source": [
        "# Normalization"
      ],
      "metadata": {
        "id": "ZEErsQH1Z2Bz"
      }
    },
    {
      "cell_type": "markdown",
      "source": [
        "### Raw Nouns"
      ],
      "metadata": {
        "id": "vdWg_wqxMwbb"
      }
    },
    {
      "cell_type": "code",
      "source": [
        "rawNouns = { \n",
        "\"usa\": \"united states of america\",\n",
        "\"u.s.a\": \"united states of america\",\n",
        "\"sa\": \"south africa\",\n",
        "\"s.a\": \"south africa\",\n",
        "\"nz\": \"new zealand\",\n",
        "\"n.z\": \"new zealand\",\n",
        "\"uk\": \"united kingdom\",\n",
        "\"u.k\": \"united kingdom\",\n",
        "\"aus\": \"australia\",\n",
        "\"a.u.s\": \"australia\",\n",
        "\"jap\": \"japan\",\n",
        "\"j.a.p\": \"japan\",\n",
        "\"blz\": \"Belize\",\n",
        "\"b.l.z\": \"Belize\",\n",
        "\"bel\": \"Belgium\",\n",
        "\"b.e.l\": \"Belgium\",\n",
        "\"btn\": \"Bhutan\",\n",
        "\"b.t.n\": \"Bhutan\",\n",
        "\"can\":\"canada\",\n",
        "\"c.a.n\":\"canada\",\n",
        "\"caf\":\"Central African Republic\",\n",
        "\"c.a.f\":\"Central African Republic\",\n",
        "\"col\":\"Colombia\",\n",
        "\"c.o.l\":\"Colombia\",\n",
        "\"cri\":\"Costa Rica\",\n",
        "\"c.r.i\":\"Costa Rica\",\n",
        "\"dma\":\"Dominica\",\n",
        "\"d.m.a\":\"Dominica\",\n",
        "\"egy\":\"Egypt\",\n",
        "\"e.g.y\":\"Egypt\",\n",
        "\"isl\":\"Iceland\",\n",
        "\"i.s.l\":\"Iceland\",\n",
        "\"ind\":\"India\",\n",
        "\"i.n.d\":\"India\",\n",
        "\"ita\":\"Italy\",\n",
        "\"i.t.a\":\"Italy\",\n",
        "\"jam\":\"Jamaica\",\n",
        "\"j.a.m\":\"Jamaica\",\n",
        "\"ken\":\"Kenya\",\n",
        "\"k.e.n\":\"Kenya\",\n",
        "\"mys\":\"Malaysia\",\n",
        "\"m.y.s\":\"Malaysia\",\n",
        "\"npl\":\"Nepal\",\n",
        "\"n.p.l\":\"Nepal\",\n",
        "\"per\":\"Peru\",\n",
        "\"p.e.r\":\"Peru\",\n",
        "}\n"
      ],
      "metadata": {
        "id": "m1sOrZU0V3YK"
      },
      "execution_count": null,
      "outputs": []
    },
    {
      "cell_type": "markdown",
      "source": [
        "## Normalizing Nouns"
      ],
      "metadata": {
        "id": "bfD5cDOwM1HY"
      }
    },
    {
      "cell_type": "code",
      "source": [
        "def normalize_Nouns(text):\n",
        "    \n",
        "    text = text.lower()\n",
        "\n",
        "    text = text.split()\n",
        "    new_text = []\n",
        "    for word in text:\n",
        "        if word in rawNouns: \n",
        "            new_text.append(rawNouns[word]) \n",
        "        else:\n",
        "            new_text.append(word)\n",
        "    text = \" \".join(new_text)\n",
        "    return text"
      ],
      "metadata": {
        "id": "kmStAa4YLwbs"
      },
      "execution_count": null,
      "outputs": []
    },
    {
      "cell_type": "markdown",
      "source": [
        "### Raw Adjectives"
      ],
      "metadata": {
        "id": "LjqdjiCOM7Gj"
      }
    },
    {
      "cell_type": "code",
      "source": [
        "rawAdjectives = { \n",
        "\"Applicability\": \"Applicable\",\n",
        "\"Carelessness\": \"Careless\",\n",
        "\"Difficulty\": \"Difficult\",\n",
        "\"Intensity\": \"Intense\",\n",
        "\"Shiftiness\": \"Shifty\",\n",
        "\"Happiness\": \"Happy\",\n",
        "\"Slowness\": \"Slow\",\n",
        "\"Fear\": \"Afraid\",\n",
        "\"Elder\": \"Elderly\",\n",
        "\"careless\": \"carelessness\",\n",
        "\"applicable\": \"applica\",\n",
        "\"hungry\": \"hunger\",\n",
        "\"nosy\": \"nose\",\n",
        "\"eventful\":\"event\",\n",
        "\"neurological\":\"neurology\",\n",
        "\"coastal\":\"coast\",\n",
        "\"delightful\":\"delight\",\n",
        "\"economic\":\"economy\",\n",
        "\"harmful\":\"harm\",\n",
        "\"difficult\":\"difficulty\",\n",
        "\"elegant\":\"elegance\",\n",
        "\"intense\":\"intensity\",\n",
        "\"grammatical\":\"grammar\",\n",
        "\"major\":\"majority\",\n",
        "\"negotiable\":\"negotiation\",\n",
        "\"anxious\":\"anxiety\",\n",
        "\"dangerous\":\"danger\",\n",
        "\"doubtful\":\"doubt\",\n",
        "\"energetic\":\"enery\",\n",
        "\"healthy\":\"health\"\n",
        "}"
      ],
      "metadata": {
        "id": "e0VknSprLbv3"
      },
      "execution_count": null,
      "outputs": []
    },
    {
      "cell_type": "markdown",
      "source": [
        "## Normalizing Adjectives"
      ],
      "metadata": {
        "id": "FwHVu7CYNBw7"
      }
    },
    {
      "cell_type": "code",
      "source": [
        "def normalize_Adjectives(text):\n",
        "    # Convert words to lower case\n",
        "    text = text.lower()\n",
        "  \n",
        "    text = text.split()\n",
        "    new_text = []\n",
        "    for word in text:\n",
        "        if word in rawAdjectives:\n",
        "            new_text.append(rawAdjectives[word])\n",
        "        else:\n",
        "            new_text.append(word)\n",
        "    text = \" \".join(new_text)\n",
        "    return text"
      ],
      "metadata": {
        "id": "rugVJ51TLj09"
      },
      "execution_count": null,
      "outputs": []
    },
    {
      "cell_type": "markdown",
      "source": [
        "### Raw Verbs"
      ],
      "metadata": {
        "id": "9UHCq2bpNOfL"
      }
    },
    {
      "cell_type": "code",
      "source": [
        "rawVerbs = { \n",
        "\"Intention\": \"Intend\",\n",
        "\"Intervention\": \"Intervene\",\n",
        "\"Distortion\": \"Distort\",\n",
        "\"Evolution\": \"Evolve\",\n",
        "\"Interference\": \"Interfere\",\n",
        "\"Discrimination\": \"Discriminate\",\n",
        "\"Decision\": \"\tDecide\",\n",
        "\"Assumption\": \"Assume\",\n",
        "\"Collection\": \"Collect\",\n",
        "\"communications\" : \"communication\",\n",
        "\"concludes\": \"conclusion\",\n",
        "\"decides\": \"decision\",\n",
        "\"discusses\": \"discussion\",\n",
        "\"identifies\": \"identification\",\n",
        "\"inspires\": \"inspiration\",\n",
        "\"investigates\": \"investigation\",\n",
        "\"reflects\": \"reflection\",\n",
        "\"states\": \"statement\",\n",
        "\"summarises\": \"summary\",\n",
        "\"composes\": \"composition\",\n",
        "\"creates\": \"creation\",\n",
        "\"demonstrates\": \"demonstration\",\n",
        "\"diagnoses\" : \"diagnosis\",\n",
        "\"explores\" : \"exploration\",\n",
        "\"indicates\": \"indication\",\n",
        "\"introduces\": \"introduction\",\n",
        "\"promotes\": \"promotion\",\n",
        "\"represents\": \"representation\",\n",
        "\"suggests\": \"suggestion\",\n",
        "\"Sympathises\": \"sympathy\",\n",
        "\"Investigation\": \"Investigate\",\n",
        "\"Expansion\": \"\tExpand\",\n",
        "\"Disagreement\": \"Disagree\",\n",
        "\"Discussion\": \"Discuss\",\n",
        "\"Argument\": \"Argue\",\n",
        "\"Failure\": \"Fail\",\n",
        "}"
      ],
      "metadata": {
        "id": "im5EaDFzLGLk"
      },
      "execution_count": null,
      "outputs": []
    },
    {
      "cell_type": "markdown",
      "source": [
        "## Normalizing Verbs"
      ],
      "metadata": {
        "id": "TNap02XmNT-v"
      }
    },
    {
      "cell_type": "code",
      "source": [
        "def normalize_Verbs(text):\n",
        "    # Convert words to lower case\n",
        "    text = text.lower()\n",
        "    \n",
        "    text = text.split()\n",
        "    new_text = []\n",
        "    for word in text:\n",
        "        if word in rawVerbs:\n",
        "            new_text.append(rawVerbs[word])\n",
        "        else:\n",
        "            new_text.append(word)\n",
        "    text = \" \".join(new_text)\n",
        "    return text"
      ],
      "metadata": {
        "id": "GEGm3-FiLAaA"
      },
      "execution_count": null,
      "outputs": []
    },
    {
      "cell_type": "markdown",
      "source": [
        "# Remove Emojis"
      ],
      "metadata": {
        "id": "pb7TTOx48H9R"
      }
    },
    {
      "cell_type": "code",
      "metadata": {
        "id": "BBm9CEBcYcgJ"
      },
      "source": [
        "def remove_emojis(data):\n",
        "    emoj = re.compile(\"[\"\n",
        "        u\"\\U0001F600-\\U0001F64F\"  # emoticons\n",
        "        u\"\\U0001F300-\\U0001F5FF\"  # symbols & pictographs\n",
        "        u\"\\U0001F680-\\U0001F6FF\"  # transport & map symbols\n",
        "        u\"\\U0001F1E0-\\U0001F1FF\"  # flags (iOS)\n",
        "        u\"\\U00002500-\\U00002BEF\"  # chinese char\n",
        "        u\"\\U00002702-\\U000027B0\"\n",
        "        u\"\\U00002702-\\U000027B0\"\n",
        "        u\"\\U000024C2-\\U0001F251\"\n",
        "        u\"\\U0001f926-\\U0001f937\"\n",
        "        u\"\\U00010000-\\U0010ffff\"\n",
        "        u\"\\u2640-\\u2642\" \n",
        "        u\"\\u2600-\\u2B55\"\n",
        "        u\"\\u200d\"\n",
        "        u\"\\u23cf\"\n",
        "        u\"\\u23e9\"\n",
        "        u\"\\u231a\"\n",
        "        u\"\\ufe0f\"  # dingbats\n",
        "        u\"\\u3030\"\n",
        "                      \"]+\", re.UNICODE)\n",
        "    return re.sub(emoj, '', data)"
      ],
      "execution_count": null,
      "outputs": []
    },
    {
      "cell_type": "code",
      "source": [
        "\"\\U0001F602\""
      ],
      "metadata": {
        "colab": {
          "base_uri": "https://localhost:8080/",
          "height": 35
        },
        "id": "a4lOl4fJUbzv",
        "outputId": "bd11b41b-ddc2-47b7-e803-7f32eb2c687e"
      },
      "execution_count": null,
      "outputs": [
        {
          "output_type": "execute_result",
          "data": {
            "application/vnd.google.colaboratory.intrinsic+json": {
              "type": "string"
            },
            "text/plain": [
              "'😂'"
            ]
          },
          "metadata": {},
          "execution_count": 12
        }
      ]
    },
    {
      "cell_type": "markdown",
      "source": [
        "# Replace Contractions"
      ],
      "metadata": {
        "id": "DZiYYknW8MFv"
      }
    },
    {
      "cell_type": "code",
      "metadata": {
        "id": "b5Z5da_a-KOY"
      },
      "source": [
        "def replace_contractions(text):\n",
        "    # Convert words to lower case\n",
        "    text = text.lower()\n",
        "    \n",
        "    # Replace contractions with their longer forms \n",
        "    \n",
        "    text = text.split()\n",
        "    new_text = []\n",
        "    \n",
        "    for word in text:\n",
        "        if word in contractions:\n",
        "            new_text.append(contractions[word])\n",
        "        else:\n",
        "            new_text.append(word)\n",
        "\n",
        "    text = \" \".join(new_text)\n",
        "    return text"
      ],
      "execution_count": null,
      "outputs": []
    },
    {
      "cell_type": "markdown",
      "source": [
        "# Remove Unwanted Characters"
      ],
      "metadata": {
        "id": "W6jkpFmv8S0C"
      }
    },
    {
      "cell_type": "code",
      "metadata": {
        "id": "jYUu0ihJ-YWh"
      },
      "source": [
        "def remove_unwanted_characters(text):\n",
        "    # Format words and remove unwanted characters\n",
        "    text = re.sub(r'https?:\\/\\/', '', text, flags=re.MULTILINE)\n",
        "    text = re.sub(r'\\<a href', ' ', text)\n",
        "    text = re.sub(r'&amp;', '', text) \n",
        "    text = re.sub(r'[_\"\\-;%()|+&=*%.,!?:#$@\\[\\]/]', ' ', text)\n",
        "    text = re.sub(r'<br />', ' ', text)\n",
        "    text = re.sub(r'\\'', ' ', text)\n",
        "    return text"
      ],
      "execution_count": null,
      "outputs": []
    },
    {
      "cell_type": "markdown",
      "source": [
        "# Stop Words"
      ],
      "metadata": {
        "id": "gNj33XCT8fHD"
      }
    },
    {
      "cell_type": "code",
      "metadata": {
        "id": "CVHUZAd1BJSU"
      },
      "source": [
        "  stopwords = [\"0o\", \"0s\", \"3a\", \"3b\", \"3d\", \"6b\", \"6o\", \"a\", \"a1\", \"a2\", \"a3\", \"a4\", \"ab\", \"able\", \"about\", \"above\", \"abst\", \"ac\", \"accordance\",\n",
        "  \"according\", \"accordingly\", \"across\", \"act\", \"actually\", \"ad\", \"added\", \"adj\", \"ae\", \"af\", \"affected\", \"affecting\", \"affects\",\n",
        "  \"after\", \"afterwards\", \"ag\", \"again\", \"against\", \"ah\", \"ain\", \"ain't\", \"aj\", \"al\", \"all\", \"allow\", \"allows\", \"almost\", \"alone\",\n",
        "  \"along\", \"already\", \"also\", \"although\", \"always\", \"am\", \"among\", \"amongst\", \"amoungst\", \"amount\", \"an\", \"and\", \"announce\", \"another\",\n",
        "  \"any\", \"anybody\", \"anyhow\", \"anymore\", \"anyone\", \"anything\", \"anyway\", \"anyways\", \"anywhere\", \"ao\", \"ap\", \"apart\", \"apparently\", \"appear\",\n",
        "  \"appreciate\", \"appropriate\", \"approximately\", \"ar\", \"are\", \"aren\", \"arent\", \"aren't\", \"arise\", \"around\", \"as\", \"a's\", \"aside\", \n",
        "  \"ask\", \"asking\", \"associated\", \"at\", \"au\", \"auth\", \"av\", \"available\", \"aw\", \"away\", \"awfully\", \"ax\", \"ay\", \"az\", \"b\", \"b1\", \"b2\",\n",
        "  \"b3\", \"ba\", \"back\", \"bc\", \"bd\", \"be\", \"became\", \"because\", \"become\", \"becomes\", \"becoming\", \"been\", \"before\", \"beforehand\", \n",
        "  \"begin\", \"beginning\", \"beginnings\", \"begins\", \"behind\", \"being\", \"believe\", \"below\", \"beside\", \"besides\", \"best\", \"better\", \n",
        "  \"between\", \"beyond\", \"bi\", \"bill\", \"biol\", \"bj\", \"bk\", \"bl\", \"bn\", \"both\", \"bottom\", \"bp\", \"br\", \"brief\", \"briefly\", \"bs\", \"bt\", \n",
        "  \"bu\", \"but\", \"bx\", \"by\", \"c\", \"c1\", \"c2\", \"c3\", \"ca\", \"call\", \"came\", \"can\", \"cannot\", \"cant\", \"can't\", \"cause\", \"causes\", \"cc\",\n",
        "  \"cd\", \"ce\", \"certain\", \"certainly\", \"cf\", \"cg\", \"ch\", \"changes\", \"ci\", \"cit\", \"cj\", \"cl\", \"clearly\", \"cm\", \"c'mon\", \"cn\", \"co\",\n",
        "  \"com\", \"come\", \"comes\", \"con\", \"concerning\", \"consequently\", \"consider\", \"considering\", \"contain\", \"containing\", \"contains\",\n",
        "  \"corresponding\", \"could\", \"couldn\", \"couldnt\", \"couldn't\", \"course\", \"cp\", \"cq\", \"cr\", \"cry\", \"cs\", \"c's\", \"ct\", \"cu\", \"currently\",\n",
        "  \"cv\", \"cx\", \"cy\", \"cz\", \"d\", \"d2\", \"da\", \"date\", \"dc\", \"dd\", \"de\", \"definitely\", \"describe\", \"described\", \"despite\", \"detail\", \"df\", \n",
        "  \"di\", \"did\", \"didn\", \"didn't\", \"different\", \"dj\", \"dk\", \"dl\", \"do\", \"does\", \"doesn\", \"doesn't\", \"doing\", \"don\", \"done\", \"don't\", \n",
        "  \"down\", \"downwards\", \"dp\", \"dr\", \"ds\", \"dt\", \"du\", \"due\", \"during\", \"dx\", \"dy\", \"e\", \"e2\", \"e3\", \"ea\", \"each\", \"ec\", \"ed\", \"edu\", \n",
        "  \"ee\", \"ef\", \"effect\", \"eg\", \"ei\", \"eight\", \"eighty\", \"either\", \"ej\", \"el\", \"eleven\", \"else\", \"elsewhere\", \"em\", \"empty\", \"en\",\n",
        "  \"end\", \"ending\", \"enough\", \"entirely\", \"eo\", \"ep\", \"eq\", \"er\", \"es\", \"especially\", \"est\", \"et\", \"et-al\", \"etc\", \"eu\", \"ev\", \n",
        "  \"even\", \"ever\", \"every\", \"everybody\", \"everyone\", \"everything\", \"everywhere\", \"ex\", \"exactly\", \"example\", \"except\", \"ey\", \"f\",\n",
        "  \"f2\", \"fa\", \"far\", \"fc\", \"few\", \"ff\", \"fi\", \"fifteen\", \"fifth\", \"fify\", \"fill\", \"find\", \"fire\", \"first\", \"five\", \"fix\", \"fj\", \n",
        "  \"fl\", \"fn\", \"fo\", \"followed\", \"following\", \"follows\", \"for\", \"former\", \"formerly\", \"forth\", \"forty\", \"found\", \"four\", \"fr\", \n",
        "  \"from\", \"front\", \"fs\", \"ft\", \"fu\", \"full\", \"further\", \"furthermore\", \"fy\", \"g\", \"ga\", \"gave\", \"ge\", \"get\", \"gets\", \"getting\",\n",
        "  \"gi\", \"give\", \"given\", \"gives\", \"giving\", \"gj\", \"gl\", \"go\", \"goes\", \"going\", \"gone\", \"got\", \"gotten\", \"gr\", \"greetings\", \"gs\", \n",
        "  \"gy\", \"h\", \"h2\", \"h3\", \"had\", \"hadn\", \"hadn't\", \"happens\", \"hardly\", \"has\", \"hasn\", \"hasnt\", \"hasn't\", \"have\", \"haven\", \"haven't\", \n",
        "  \"having\", \"he\", \"hed\", \"he'd\", \"he'll\", \"hello\", \"help\", \"hence\", \"her\", \"here\", \"hereafter\", \"hereby\", \"herein\", \"heres\", \"here's\",\n",
        "  \"hereupon\", \"hers\", \"herself\", \"hes\", \"he's\", \"hh\", \"hi\", \"hid\", \"him\", \"himself\", \"his\", \"hither\", \"hj\", \"ho\", \"home\", \"hopefully\", \n",
        "  \"how\", \"howbeit\", \"however\", \"how's\", \"hr\", \"hs\", \"http\", \"hu\", \"hundred\", \"hy\", \"i\", \"i2\", \"i3\", \"i4\", \"i6\", \"i7\", \"i8\", \"ia\", \"ib\",\n",
        "  \"ibid\", \"ic\", \"id\", \"i'd\", \"ie\", \"if\", \"ig\", \"ignored\", \"ih\", \"ii\", \"ij\", \"il\", \"i'll\", \"im\", \"i'm\", \"immediate\", \"immediately\", \n",
        "  \"importance\", \"important\", \"in\", \"inasmuch\", \"inc\", \"indeed\", \"index\", \"indicate\", \"indicated\", \"indicates\", \"information\", \"inner\",\n",
        "  \"insofar\", \"instead\", \"interest\", \"into\", \"invention\", \"inward\", \"io\", \"ip\", \"iq\", \"ir\", \"is\", \"isn\", \"isn't\", \"it\", \"itd\", \"it'd\",\n",
        "  \"it'll\", \"its\", \"it's\", \"itself\", \"iv\", \"i've\", \"ix\", \"iy\", \"iz\", \"j\", \"jj\", \"jr\", \"js\", \"jt\", \"ju\", \"just\", \"k\", \"ke\", \"keep\", \n",
        "  \"keeps\", \"kept\", \"kg\", \"kj\", \"km\", \"know\", \"known\", \"knows\", \"ko\", \"l\", \"l2\", \"la\", \"largely\", \"last\", \"lately\", \"later\", \"latter\", \n",
        "  \"latterly\", \"lb\", \"lc\", \"le\", \"least\", \"les\", \"less\", \"lest\", \"let\", \"lets\", \"let's\", \"lf\", \"like\", \"liked\", \"likely\", \"line\", \n",
        "  \"little\", \"lj\", \"ll\", \"ll\", \"ln\", \"lo\", \"look\", \"looking\", \"looks\", \"los\", \"lr\", \"ls\", \"lt\", \"ltd\", \"m\", \"m2\", \"ma\", \"made\", \"mainly\",\n",
        "  \"make\", \"makes\", \"many\", \"may\", \"maybe\", \"me\", \"mean\", \"means\", \"meantime\", \"meanwhile\", \"merely\", \"mg\", \"might\", \"mightn\", \"mightn't\",\n",
        "  \"mill\", \"million\", \"mine\", \"miss\", \"ml\", \"mn\", \"mo\", \"more\", \"moreover\", \"most\", \"mostly\", \"move\", \"mr\", \"mrs\", \"ms\", \"mt\", \"mu\", \n",
        "  \"much\", \"mug\", \"must\", \"mustn\", \"mustn't\", \"my\", \"myself\", \"n\", \"n2\", \"na\", \"name\", \"namely\", \"nay\", \"nc\", \"nd\", \"ne\", \"near\", \n",
        "  \"nearly\", \"necessarily\", \"necessary\", \"need\", \"needn\", \"needn't\", \"needs\", \"neither\", \"never\", \"nevertheless\", \"new\", \"next\", \"ng\", \n",
        "  \"ni\", \"nine\", \"ninety\", \"nj\", \"nl\", \"nn\", \"no\", \"nobody\", \"non\", \"none\", \"nonetheless\", \"noone\", \"nor\", \"normally\", \"nos\", \"not\", \n",
        "  \"noted\", \"nothing\", \"novel\", \"now\", \"nowhere\", \"nr\", \"ns\", \"nt\", \"ny\", \"o\", \"oa\", \"ob\", \"obtain\", \"obtained\", \"obviously\", \"oc\", \n",
        "  \"od\", \"of\", \"off\", \"often\", \"og\", \"oh\", \"oi\", \"oj\", \"ok\", \"okay\", \"ol\", \"old\", \"om\", \"omitted\", \"on\", \"once\", \"one\", \"ones\", \"only\", \n",
        "  \"onto\", \"oo\", \"op\", \"oq\", \"or\", \"ord\", \"os\", \"ot\", \"other\", \"others\", \"otherwise\", \"ou\", \"ought\", \"our\", \"ours\", \"ourselves\", \"out\",\n",
        "  \"outside\", \"over\", \"overall\", \"ow\", \"owing\", \"own\", \"ox\", \"oz\", \"p\", \"p1\", \"p2\", \"p3\", \"page\", \"pagecount\", \"pages\", \"par\", \"part\", \n",
        "  \"particular\", \"particularly\", \"pas\", \"past\", \"pc\", \"pd\", \"pe\", \"per\", \"perhaps\", \"pf\", \"ph\", \"pi\", \"pj\", \"pk\", \"pl\", \"placed\",\n",
        "  \"please\", \"plus\", \"pm\", \"pn\", \"po\", \"poorly\", \"possible\", \"possibly\", \"potentially\", \"pp\", \"pq\", \"pr\", \"predominantly\", \"present\",\n",
        "  \"presumably\", \"previously\", \"primarily\", \"probably\", \"promptly\", \"proud\", \"provides\", \"ps\", \"pt\", \"pu\", \"put\", \"py\", \"q\", \"qj\", \"qu\",\n",
        "  \"que\", \"quickly\", \"quite\", \"qv\", \"r\", \"r2\", \"ra\", \"ran\", \"rather\", \"rc\", \"rd\", \"re\", \"readily\", \"really\", \"reasonably\", \"recent\", \n",
        "  \"recently\", \"ref\", \"refs\", \"regarding\", \"regardless\", \"regards\", \"related\", \"relatively\", \"research\", \"research-articl\", \"respectively\",\n",
        "  \"resulted\", \"resulting\", \"results\", \"rf\", \"rh\", \"ri\", \"right\", \"rj\", \"rl\", \"rm\", \"rn\", \"ro\", \"rq\", \"rr\", \"rs\", \"rt\", \"ru\", \"run\", \"rv\",\n",
        "  \"ry\", \"s\", \"s2\", \"sa\", \"said\", \"same\", \"saw\", \"say\", \"saying\", \"says\", \"sc\", \"sd\", \"se\", \"sec\", \"second\", \"secondly\", \"section\", \"see\", \n",
        "  \"seeing\", \"seem\", \"seemed\", \"seeming\", \"seems\", \"seen\", \"self\", \"selves\", \"sensible\", \"sent\", \"serious\", \"seriously\", \"seven\", \"several\",\n",
        "  \"sf\", \"shall\", \"shan\", \"shan't\", \"she\", \"shed\", \"she'd\", \"she'll\", \"shes\", \"she's\", \"should\", \"shouldn\", \"shouldn't\", \"should've\",\n",
        "  \"show\", \"showed\", \"shown\", \"showns\", \"shows\", \"si\", \"side\", \"significant\", \"significantly\", \"similar\", \"similarly\", \"since\", \"sincere\",\n",
        "  \"six\", \"sixty\", \"sj\", \"sl\", \"slightly\", \"sm\", \"sn\", \"so\", \"some\", \"somebody\", \"somehow\", \"someone\", \"somethan\", \"something\", \"sometime\",\n",
        "  \"sometimes\", \"somewhat\", \"somewhere\", \"soon\", \"sorry\", \"sp\", \"specifically\", \"specified\", \"specify\", \"specifying\", \"sq\", \"sr\", \"ss\",\n",
        "  \"st\", \"still\", \"stop\", \"strongly\", \"sub\", \"substantially\", \"successfully\", \"such\", \"sufficiently\", \"suggest\", \"sup\", \"sure\", \"sy\", \"system\",\n",
        "  \"sz\", \"t\", \"t1\", \"t2\", \"t3\", \"take\", \"taken\", \"taking\", \"tb\", \"tc\", \"td\", \"te\", \"tell\", \"ten\", \"tends\", \"tf\", \"th\", \"than\", \"thank\",\n",
        "  \"thanks\", \"thanx\", \"that\", \"that'll\", \"thats\", \"that's\", \"that've\", \"the\", \"their\", \"theirs\", \"them\", \"themselves\", \"then\", \"thence\",\n",
        "  \"there\", \"thereafter\", \"thereby\", \"thered\", \"therefore\", \"therein\", \"there'll\", \"thereof\", \"therere\", \"theres\", \"there's\", \"thereto\", \n",
        "  \"thereupon\", \"there've\", \"these\", \"they\", \"theyd\", \"they'd\", \"they'll\", \"theyre\", \"they're\", \"they've\", \"thickv\", \"thin\", \"think\", \n",
        "  \"third\", \"this\", \"thorough\", \"thoroughly\", \"those\", \"thou\", \"though\", \"thoughh\", \"thousand\", \"three\", \"throug\", \"through\", \"throughout\",\n",
        "  \"thru\", \"thus\", \"ti\", \"til\", \"tip\", \"tj\", \"tl\", \"tm\", \"tn\", \"to\", \"together\", \"too\", \"took\", \"top\", \"toward\", \"towards\", \"tp\", \"tq\", \n",
        "  \"tr\", \"tried\", \"tries\", \"truly\", \"try\", \"trying\", \"ts\", \"t's\", \"tt\", \"tv\", \"twelve\", \"twenty\", \"twice\", \"two\", \"tx\", \"u\", \"u201d\", \n",
        "  \"ue\", \"ui\", \"uj\", \"uk\", \"um\", \"un\", \"under\", \"unfortunately\", \"unless\", \"unlike\", \"unlikely\", \"until\", \"unto\", \"uo\", \"up\", \"upon\", \"ups\",\n",
        "  \"ur\", \"us\", \"use\", \"used\", \"useful\", \"usefully\", \"usefulness\", \"uses\", \"using\", \"usually\", \"ut\", \"v\", \"va\", \"value\", \"various\", \"vd\", \n",
        "  \"ve\", \"ve\", \"very\", \"via\", \"viz\", \"vj\", \"vo\", \"vol\", \"vols\", \"volumtype\", \"vq\", \"vs\", \"vt\", \"vu\", \"w\", \"wa\", \"want\", \"wants\", \"was\", \n",
        "  \"wasn\", \"wasnt\", \"wasn't\", \"way\", \"we\", \"wed\", \"we'd\", \"welcome\", \"well\", \"we'll\", \"well-b\", \"went\", \"were\", \"we're\", \"weren\", \"werent\",\n",
        "  \"weren't\", \"we've\", \"what\", \"whatever\", \"what'll\", \"whats\", \"what's\", \"when\", \"whence\", \"whenever\", \"when's\", \"where\", \"whereafter\", \n",
        "  \"whereas\", \"whereby\", \"wherein\", \"wheres\", \"where's\", \"whereupon\", \"wherever\", \"whether\", \"which\", \"while\", \"whim\", \"whither\", \"who\",\n",
        "  \"whod\", \"whoever\", \"whole\", \"who'll\", \"whom\", \"whomever\", \"whos\", \"who's\", \"whose\", \"why\", \"why's\", \"wi\", \"widely\", \"will\", \"willing\", \n",
        "  \"wish\", \"with\", \"within\", \"without\", \"wo\", \"won\", \"wonder\", \"wont\", \"won't\", \"words\", \"world\", \"would\", \"wouldn\", \"wouldnt\", \"wouldn't\",\n",
        "  \"www\", \"x\", \"x1\", \"x2\", \"x3\", \"xf\", \"xi\", \"xj\", \"xk\", \"xl\", \"xn\", \"xo\", \"xs\", \"xt\", \"xv\", \"xx\", \"y\", \"y2\", \"yes\", \"yet\", \"yj\", \"yl\", \"you\",\n",
        "  \"youd\", \"you'd\", \"you'll\", \"your\", \"youre\", \"you're\", \"yours\", \"yourself\", \"yourselves\", \"you've\", \"yr\", \"ys\", \"yt\", \"z\", \"zero\", \"zi\", \"zz\"]"
      ],
      "execution_count": null,
      "outputs": []
    },
    {
      "cell_type": "markdown",
      "source": [
        "# Remove Stop Words"
      ],
      "metadata": {
        "id": "6qBwQUnA8i5v"
      }
    },
    {
      "cell_type": "code",
      "metadata": {
        "id": "QrfpTwYb-yiv"
      },
      "source": [
        "def remove_stopwords(text,stopwords):\n",
        "    # Optionally, remove stop words\n",
        "    text = text.split()\n",
        "    stops = set(stopwords)\n",
        "    text = [w for w in text if not w in stops]\n",
        "    text = \" \".join(text)\n",
        "    return text"
      ],
      "execution_count": null,
      "outputs": []
    },
    {
      "cell_type": "markdown",
      "source": [
        "# Porter Stemmer"
      ],
      "metadata": {
        "id": "gNN-GH7E8njk"
      }
    },
    {
      "cell_type": "code",
      "metadata": {
        "id": "mJtRjk4CR2Nx"
      },
      "source": [
        "class porter:\n",
        "\n",
        "    def isvowel(self, l):\n",
        "        letter = l.lower()\n",
        "        if (letter == 'a' or letter == 'e' or letter == 'o' or letter == 'i' or letter == 'u'):\n",
        "            return True\n",
        "        else:\n",
        "            return False\n",
        "\n",
        "    def iscons(self, l):\n",
        "        return (not self.isvowel(l))\n",
        "\n",
        "\n",
        "# ROHIT\n",
        "# CVCVC\n",
        "    def form(self, word):\n",
        "        pattern = []\n",
        "        fstr = ''\n",
        "        for i in range(0, len(word)):\n",
        "            if self.isvowel(word[i]):\n",
        "                pattern.append('V')\n",
        "            else:\n",
        "                pattern.append('C')\n",
        "        for j in pattern:\n",
        "            fstr += j\n",
        "        return fstr\n",
        "\n",
        "    def m_count(self, word):\n",
        "        form_string = self.form(word)\n",
        "        count = form_string.count('VC')\n",
        "        return (count)\n",
        "\n",
        "    def get_base(self, word, suf):\n",
        "        suflen = word.rfind(suf)\n",
        "        base = word[:suflen]\n",
        "        return base\n",
        "\n",
        "    def replacer(self, word, suf1, suf2):\n",
        "        base = self.get_base(word, suf1)\n",
        "        base += suf2\n",
        "        return base\n",
        "#  code for all the four patterns \n",
        "    # *s \n",
        "    def endswith_s(self, stem):\n",
        "        if stem.endswith('s'):\n",
        "            return True\n",
        "        else:\n",
        "            return False\n",
        "\n",
        "    # *v*\n",
        "    def contains_vowel(self, stem):\n",
        "        for i in range(0, len(stem)):\n",
        "            if self.isvowel(stem[i]):\n",
        "                return True\n",
        "        return False\n",
        "\n",
        "    # *d\n",
        "    def CC(self, stem):\n",
        "        pattern = self.form(stem)\n",
        "        if pattern[-1] == 'C' and pattern[-2] == 'C':\n",
        "            return True\n",
        "        else:\n",
        "            return False\n",
        "\n",
        "    # *o\n",
        "    def CVC(self, stem):\n",
        "        stem = stem.lower()\n",
        "        pattern = self.form(stem)\n",
        "        if pattern[-1] == 'C' and pattern[-2] == 'V' and pattern[-3] == 'C' and stem[-1] not in 'xyz':\n",
        "            return True\n",
        "        else:\n",
        "            return False\n",
        "\n",
        "# Step 1a: \n",
        "\n",
        "#   SSES - > SS\n",
        "#   IES -> I\n",
        "#   SS -> SS\n",
        "#   S -> null\n",
        "    def step_1a(self, word):\n",
        "        word = word.lower()\n",
        "        new_word = word\n",
        "        if word.endswith('sses'):\n",
        "            new_word = self.replacer(word, 'sses', 'ss')\n",
        "        elif word.endswith('ies'):\n",
        "            new_word = self.replacer(word, 'ies', 'i')\n",
        "        elif word.endswith('ss'):\n",
        "            new_word = word\n",
        "        elif word.endswith('s'):\n",
        "            new_word = self.replacer(word, 's', '')\n",
        "        return (new_word)\n",
        "\n",
        "# Step 1b: \n",
        "\n",
        "#   (m>0) EED -> EE\n",
        "#   (*V*) ED -> null\n",
        "#   (*V*) ING -> null\n",
        "\n",
        "\n",
        "    def step_1b(self, word):\n",
        "        new_word = word\n",
        "        if word.endswith('eed'):\n",
        "            suflen = len('eed')\n",
        "            base = word[:suflen]\n",
        "            if self.m_count(base) > 0:\n",
        "                new_word = self.replacer(word, 'eed', 'ee')\n",
        "        elif word.endswith('ed'):\n",
        "            suflen = word.rfind('ed')\n",
        "            base = word[:suflen]\n",
        "            if self.contains_vowel(base):\n",
        "                new_word = word[:suflen]\n",
        "                new_word = self.part_1b(new_word)\n",
        "        elif word.endswith('ing'):\n",
        "            suflen = word.rfind('ing')\n",
        "            base = word[:suflen]\n",
        "            if self.contains_vowel(base):\n",
        "                new_word = word[:suflen]\n",
        "                new_word = self.part_1b(new_word)\n",
        "        return (new_word)\n",
        "# Part 1b:\n",
        "\n",
        "#     AT -> ATE\n",
        "#     BL -> BLE\n",
        "#     IZ -> IZE\n",
        "\n",
        "#     (*d and not (*L or *s or *Z)) -> single letter \n",
        "\n",
        "#     (m=l and *o) -> E\n",
        "\n",
        "    def part_1b(self, word):\n",
        "        if (word.endswith('at') or word.endswith('bl') or word.endswith('iz')):\n",
        "            word += 'e'\n",
        "        elif self.CC(word) and not word.endswith('s') and not word.endswith('z') and not word.endswith('l'):\n",
        "            word = word[:-1]\n",
        "        elif self.m_count(word) == 1 and self.CVC(word):\n",
        "            word += 'e'\n",
        "        return (word)\n",
        "\n",
        "# Step 1c:\n",
        "\n",
        "#     (*V*) Y -> I\n",
        "\n",
        "\n",
        "    def step_1c(self, word):\n",
        "        if self.contains_vowel(word) and word.endswith('y'):\n",
        "            return (self.replacer(word, 'y', 'i'))\n",
        "        else:\n",
        "            return (word)\n",
        "\n",
        "\n",
        "\n",
        "\n",
        "# Step 2:\n",
        "#       (m>0) ATIONAL\t\t->\t\tATE\t\t    \t\n",
        "#       (m>0) TIONAL\t\t->\t\tTION\t\t    \t\t\n",
        "            \n",
        "#       (m>0) ENCI\t\t->\t\tENCE\t\t    \t\n",
        "#       (m>0) ANCI\t\t->\t\tANCE\t\t    \t\n",
        "#       (m>0) IZER\t\t->\t\tIZE\t\t    \t\t\n",
        "#       (m>0) ABLI\t\t->\t\tABLE\t\t    \t\t\n",
        "#       (m>0) ALLI\t\t->\t\tAL\t\t    \t\n",
        "#       (m>0) ENTLI\t\t->\t\tENT\t\t    \t\n",
        "#       (m>0) ELI\t\t->\t\tE\t\t    \t\t\n",
        "#       (m>0) OUSLI\t\t->\t\tOUS\t\t    \t\n",
        "#       (m>0) IZATION\t\t->\t\tIZE\t\t    \t\n",
        "#       (m>0) ATION\t\t->\t\tATE\t\t    \t\n",
        "#       (m>0) ATOR\t\t->\t\tATE\t\t    \t\t\n",
        "#       (m>0) ALISM\t\t->\t\tAL\t\t    \t\t\n",
        "#       (m>0) IVENESS\t\t->\t\tIVE\t\t    \n",
        "#       (m>0) FULNESS\t\t->\t\tFUL\t\t    \t\n",
        "#       (m>0) OUSNESS\t\t->\t\tOUS\t\t    \t\n",
        "#       (m>0) ALITI\t\t->\t\tAL\t\t    \t\n",
        "#       (m>0) IVITI\t\t->\t\tIVE\t\t    \n",
        "#       (m>0) BILITI\t\t->\t\tBLE\t\t\n",
        "\n",
        "    def step_2(self, word):\n",
        "        if word[-2] == 'a':\n",
        "            if word.endswith('ational'):\n",
        "                base = self.get_base(word, 'ational')\n",
        "                if self.m_count(base) > 0:\n",
        "                    word = self.replacer(word, 'ational', 'ate')\n",
        "            elif word.endswith('tional'):\n",
        "                base = self.get_base(word, 'tional')\n",
        "                if self.m_count(base) > 0:\n",
        "                    word = self.replacer(word, 'tional', 'tion')\n",
        "        elif word[-2] == 'c':\n",
        "            if word.endswith('enci'):\n",
        "                base = self.get_base(word, 'enci')\n",
        "                if self.m_count(base) > 0:\n",
        "                    word = self.replacer(word, 'enci', 'ence')\n",
        "            elif word.endswith('anci'):\n",
        "                base = self.get_base(word, 'anci')\n",
        "                if self.m_count(base) > 0:\n",
        "                    word = self.replacer(word, 'anci', 'ance')\n",
        "        elif word[-2] == 'z':\n",
        "            if word.endswith('izer'):\n",
        "                base = self.get_base(word, 'izer')\n",
        "                if self.m_count(base) > 0:\n",
        "                    word = self.replacer(word, 'izer', 'ize')\n",
        "        elif word[-2] == 'l':\n",
        "            if word.endswith('abli'):\n",
        "                base = self.get_base(word, 'abli')\n",
        "                if self.m_count(base) > 0:\n",
        "                    word = self.replacer(word, 'abli', 'able')\n",
        "            elif word.endswith('alli'):\n",
        "                base = self.get_base(word, 'alli')\n",
        "                if self.m_count(base) > 0:\n",
        "                    word = self.replacer(word, 'alli', 'al')\n",
        "            elif word.endswith('entli'):\n",
        "                base = self.get_base(word, 'entli')\n",
        "                if self.m_count(base) > 0:\n",
        "                    word = self.replacer(word, 'entli', 'ent')\n",
        "            elif word.endswith('eli'):\n",
        "                base = self.get_base(word, 'eli')\n",
        "                if self.m_count(base) > 0:\n",
        "                    word = self.replacer(word, 'eli', 'e')\n",
        "            elif word.endswith('ousli'):\n",
        "                base = self.get_base(word, 'ousli')\n",
        "                if self.m_count(base) > 0:\n",
        "                    word = self.replacer(word, 'ousli', 'ous')\n",
        "        elif word[-2] == 'o':\n",
        "            if word.endswith('ation'):\n",
        "                base = self.get_base(word, 'ation')\n",
        "                if self.m_count(base) > 0:\n",
        "                    word = self.replacer(word, 'ation', 'ate')\n",
        "            elif word.endswith('ization'):\n",
        "                base = self.get_base(word, 'ization')\n",
        "                if self.m_count(base) > 0:\n",
        "                    word = self.replacer(word, 'ization', 'ize')\n",
        "            elif word.endswith('ator'):\n",
        "                base = self.get_base(word, 'ator')\n",
        "                if self.m_count(base) > 0:\n",
        "                    word = self.replacer(word, 'ator', 'ate')\n",
        "        elif word[-2] == 's':\n",
        "            if word.endswith('alism'):\n",
        "                base = self.get_base(word, 'alism')\n",
        "                if self.m_count(base) > 0:\n",
        "                    word = self.replacer(word, 'alism', 'al')\n",
        "            elif word.endswith('iveness'):\n",
        "                base = self.get_base(word, 'iveness')\n",
        "                if self.m_count(base) > 0:\n",
        "                    word = self.replacer(word, 'iveness', 'ive')\n",
        "            elif word.endswith('fulness'):\n",
        "                base = self.get_base(word, 'fulness')\n",
        "                if self.m_count(base) > 0:\n",
        "                    word = self.replacer(word, 'fulness', 'ful')\n",
        "            elif word.endswith('ousness'):\n",
        "                base = self.get_base(word, 'ousness')\n",
        "                if self.m_count(base) > 0:\n",
        "                    word = self.replacer(word, 'ousness', 'ous')\n",
        "        elif word[-2] == 't':\n",
        "            if word.endswith('aliti'):\n",
        "                base = self.get_base(word, 'aliti')\n",
        "                if self.m_count(base) > 0:\n",
        "                    word = self.replacer(word, 'aliti', 'al')\n",
        "            elif word.endswith('iviti'):\n",
        "                base = self.get_base(word, 'iviti')\n",
        "                if self.m_count(base) > 0:\n",
        "                    word = self.replacer(word, 'iviti', 'ive')\n",
        "            elif word.endswith('biliti'):\n",
        "                base = self.get_base(word, 'biliti')\n",
        "                if self.m_count(base) > 0:\n",
        "                    word = self.replacer(word, 'biliti', 'ble')\n",
        "        return (word)\n",
        "\n",
        "# Step 3:\n",
        "\n",
        "#         (m>0) ICATE\t\t->\t\tIC\t\t    \t\n",
        "#         (m>0) ATIVE\t\t->\t\t\t\t    \t\n",
        "#         (m>0) ALIZE\t\t->\t\tAL\t\t    \t\n",
        "#         (m>0) ICITI\t\t->\t\tIC\t\t    \t\n",
        "#         (m>0) ICAL\t\t->\t\tIC\t\t    \t\n",
        "#         (m>0) FUL\t\t->\t\t\t\t    \t\n",
        "#         (m>0) NESS\t\t->\t\t\t\t    \t\n",
        "\n",
        "    def step_3(self, word):\n",
        "        if word.endswith('icate'):\n",
        "            base = self.get_base(word, 'icate')\n",
        "            if self.m_count(base) > 0:\n",
        "                word = self.replacer(word, 'icate', 'ic')\n",
        "        elif word.endswith('ative'):\n",
        "            base = self.get_base(word, 'ative')\n",
        "            if self.m_count(base) > 0:\n",
        "                word = self.replacer(word, 'ative', '')\n",
        "        elif word.endswith('alize'):\n",
        "            base = self.get_base(word, 'alize')\n",
        "            if self.m_count(base) > 0:\n",
        "                word = self.replacer(word, 'alize', 'al')\n",
        "        elif word.endswith('iciti'):\n",
        "            base = self.get_base(word, 'iciti')\n",
        "            if self.m_count(base) > 0:\n",
        "                word = self.replacer(word, 'iciti', 'ic')\n",
        "        elif word.endswith('ful'):\n",
        "            base = self.get_base(word, 'ful')\n",
        "            if self.m_count(base) > 0:\n",
        "                word = self.replacer(word, 'ful'), ''\n",
        "        elif word.endswith('ness'):\n",
        "            base = self.get_base(word, 'ness')\n",
        "            if self.m_count(base) > 0:\n",
        "                word = self.replacer(word, 'ness', '')\n",
        "        return word\n",
        "\n",
        "# step 4:\n",
        "\n",
        "\n",
        "#         (m>1) AL\t\t->\t\t\t\t    \t\n",
        "#         (m>1) ANCE\t\t->\t\t\t\t    \t\n",
        "#         (m>1) ENCE\t\t->\t\t\t\t    \t\n",
        "#         (m>1) ER\t\t->\t\t\t\t    \t\t\n",
        "#         (m>1) IC\t\t->\t\t\t\t    \t\n",
        "#         (m>1) ABLE\t\t->\t\t\t\t    \t\n",
        "#         (m>1) IBLE\t\t->\t\t\t\t    \t\n",
        "#         (m>1) ANT\t\t->\t\t\t\t    \t\n",
        "#         (m>1) EMENT\t\t->\t\t\t\t    \t\n",
        "#         (m>1) MENT\t\t->\t\t\t\t    \t\n",
        "#         (m>1) ENT\t\t->\t\t\t\t    \t\n",
        "#         (m>1 and (*S or *T)) ION\t\t->\t\t\t\t    \t\t\n",
        "#         (m>1) OU\t\t->\t\t\t\t    \t\t\n",
        "#         (m>1) ISM\t\t->\t\t\t\t    \t\n",
        "#         (m>1) ATE\t\t->\t\t\t\t    \t\t\n",
        "#         (m>1) ITI\t\t->\t\t\t\t    \t\n",
        "#         (m>1) OUS\t\t->\t\t\t\t    \t\n",
        "#         (m>1) IVE\t\t->\t\t\t\t    \t\n",
        "#         (m>1) IZE\t\t->\t\t\t\t    \t\n",
        "\n",
        "\n",
        "    def step_4(self, word):\n",
        "        suffixes = ['al', 'ance', 'ence', 'er', 'ic', 'able', 'ible', 'ant', 'ement', 'ment', 'ent', 'ou', 'ism', 'ate',\n",
        "                    'iti', 'ous', 'ive', 'ize']\n",
        "        for suffix in suffixes:\n",
        "            if word.endswith(suffix):\n",
        "                base = self.get_base(word, suffix)\n",
        "                if self.m_count(base) > 1:\n",
        "                    word = self.replacer(word, suffix, '')\n",
        "        if word.endswith('ion'):\n",
        "            base = self.get_base(word, 'ion')\n",
        "            if self.m_count(base) > 1 and base.endswith('s') or base.endswith('t'):\n",
        "                word = self.replacer(word, 'ion', '')\n",
        "        return word\n",
        "\n",
        "# Step 5a:\n",
        "\n",
        "#       (m>1) E\t\t->\t\t\t\t    \t\n",
        "#       (m=1 and not *o) E\t\t->\t\t\t\t    \t\n",
        "\n",
        "    def step_5a(self, word):\n",
        "        if word.endswith('e'):\n",
        "            base = self.get_base(word, 'e')\n",
        "            if self.m_count(base) > 1 or (self.m_count(base) == 1 and not self.CVC(base)):\n",
        "                word = self.replacer(word, 'e', '')\n",
        "        return word\n",
        "\n",
        "# Step 5b:\n",
        "\n",
        "#       (m > 1 and *d and *L)\t\t->\t\tsingle letter\t\t  \n",
        "\n",
        "\n",
        "    def step_5b(self, word):\n",
        "        if self.CC(word) and word.endswith('l') and self.m_count(word) > 1:\n",
        "            word = word[:-1]\n",
        "        return word"
      ],
      "execution_count": null,
      "outputs": []
    },
    {
      "cell_type": "markdown",
      "source": [
        "# Stemming"
      ],
      "metadata": {
        "id": "0nehu4bj8v0T"
      }
    },
    {
      "cell_type": "code",
      "metadata": {
        "id": "T-ulAJF_R0Su"
      },
      "source": [
        "def word_stemming(text):\n",
        "    new_text = []\n",
        "    p = porter()\n",
        "    for word in text.split():\n",
        "        if len(word) > 2:\n",
        "          word = p.step_1a(word)\n",
        "          word = p.step_1b(word)\n",
        "          word = p.step_1c(word)\n",
        "          word = p.step_2(word)\n",
        "          word = p.step_3(word)\n",
        "          word = p.step_4(word)\n",
        "          word = p.step_5a(word)\n",
        "          word = p.step_5b(word)\n",
        "        new_text.append(word)\n",
        "    text = \" \".join(new_text)\n",
        "    return text"
      ],
      "execution_count": null,
      "outputs": []
    },
    {
      "cell_type": "markdown",
      "source": [
        "# Count Words"
      ],
      "metadata": {
        "id": "-yXlEt-c9Akf"
      }
    },
    {
      "cell_type": "code",
      "metadata": {
        "id": "vgnvCOWj7PY2"
      },
      "source": [
        "def count_words(count_dict, text):\n",
        "    '''Count the number of occurrences of each word in a set of text'''\n",
        "    for word in text.split():\n",
        "        if word not in count_dict:\n",
        "            count_dict[word] = 1\n",
        "        else:\n",
        "            count_dict[word] += 1"
      ],
      "execution_count": null,
      "outputs": []
    },
    {
      "cell_type": "markdown",
      "source": [
        "# Normalised Word Frequency"
      ],
      "metadata": {
        "id": "rbn1ptMB81Q0"
      }
    },
    {
      "cell_type": "code",
      "metadata": {
        "id": "zRK3Cn-d7_LE"
      },
      "source": [
        "def get_word_frequencies(word_frequencies):\n",
        "  maximum_frequency = max(word_frequencies.values())\n",
        "  for word in word_frequencies:\n",
        "      word_frequencies[word] = word_frequencies[word] / maximum_frequency\n",
        "  return word_frequencies"
      ],
      "execution_count": null,
      "outputs": []
    },
    {
      "cell_type": "markdown",
      "source": [
        "# Calculate Sentence Score"
      ],
      "metadata": {
        "id": "OzdhqTXz9LsG"
      }
    },
    {
      "cell_type": "code",
      "metadata": {
        "id": "wtUhy2GQ8bAk"
      },
      "source": [
        "def get_sentence_scores(sentence_list,word_frequencies):\n",
        "  for sentence in sentence_list: \n",
        "      for word in nltk.word_tokenize(sentence):\n",
        "          if word in word_frequencies and len(sentence.split(' ')) < 30: \n",
        "              if sentence not in sentence_scores: \n",
        "                  sentence_scores[sentence] = word_frequencies[word]\n",
        "              else: \n",
        "                  sentence_scores[sentence] += word_frequencies[word]\n",
        "  return sentence_scores"
      ],
      "execution_count": null,
      "outputs": []
    },
    {
      "cell_type": "markdown",
      "source": [
        "# Summarize "
      ],
      "metadata": {
        "id": "xVE5bM4m9VH5"
      }
    },
    {
      "cell_type": "code",
      "metadata": {
        "id": "dLNNzw0I9y2v"
      },
      "source": [
        "import heapq\n",
        "def get_summery(sentence_scores):\n",
        "  summary = heapq.nlargest(5, sentence_scores, key=sentence_scores.get)\n",
        "  return \" \".join(summary)"
      ],
      "execution_count": null,
      "outputs": []
    },
    {
      "cell_type": "code",
      "metadata": {
        "id": "QPpq9G101JrW"
      },
      "source": [
        "## input text article\n",
        "long_text=\"\"\"🌹😉Just what is agility in the context of software engineering work? . u.s.a Ivar Jacobson [Jac02a] provides a useful discussion: Agility \n",
        "  has become today’s buzzword when describing a modern software process. Everyone is agile. An agile team is a nimble team able to appropriately\n",
        "  respond to changes. Change isn't what software development is very much about. Changes in the software being built, changes 🌹to the team members,\n",
        "  changes because of new technology, https://twitter.com.  changes of all kinds that may have an impact on the product they build or the project that creates the \n",
        "  product.Support for changes should😢 be built-in everything we do in software, something we embrace because it is the heart and soul of\n",
        "  software. An agile team recognizes that software is developed by individuals working in teams and that the skills of these people, their\n",
        "  ability to collaborate is at the core for the success of the project.In Jacobson’s view, the pervasiveness of change is the primary driver\n",
        "  for agility.😁 Software engineers must be quick on their feet if they are to accommodate😎 the rapid changes that Jacobson describes.  But \n",
        "  gility is more than an effective response to 😉change. It also encompasses the philosophy espoused in the manifesto noted at the beginning\n",
        "  of this chapter. It encourages team structures and attitudes that make communication (among team members, between technologists and \n",
        "  business people, between software engineers and their managers) more facile. It emphasizes rapid delivery of operational software and \n",
        "  deemphasizes the importance of intermediate work products (not always a good thing); it adopts the customer as a part of 🐱‍👓the development \n",
        "  team and works to eliminate the “us 😊and them” attitude that continues to pervade many software projects; it recognizes that planning in \n",
        "  an uncertain world has its limits and that a project plan must be ﬂ exible.  Agility can be 👏applied to any software process. However, to \n",
        "  accomplish this, it is essential that the process be designed in a way that allows the project team to adapt tasks and to streamline them,\n",
        "  conduct planning in a way that understands the ﬂ uidity of an agile development approach, eliminate all but the most essential work \n",
        "  products and keep them lean, and emphasize an incremental delivery 😜strategy that gets working software to the customer as rapidly as \n",
        "  feasible for the product type and operational environment.\"\"\""
      ],
      "execution_count": null,
      "outputs": []
    },
    {
      "cell_type": "markdown",
      "source": [
        "# Remove Emojis"
      ],
      "metadata": {
        "id": "Q9KXCKPvNvGB"
      }
    },
    {
      "cell_type": "code",
      "metadata": {
        "id": "liXRx3AAYsyF"
      },
      "source": [
        "clear_text = remove_emojis(long_text)"
      ],
      "execution_count": null,
      "outputs": []
    },
    {
      "cell_type": "code",
      "source": [
        "print(clear_text)"
      ],
      "metadata": {
        "colab": {
          "base_uri": "https://localhost:8080/"
        },
        "id": "4qvSuuvTN0Tx",
        "outputId": "8bac01ab-1a39-4c93-c42e-22222836c9a8"
      },
      "execution_count": null,
      "outputs": [
        {
          "output_type": "stream",
          "name": "stdout",
          "text": [
            "Just what is agility in the context of software engineering work? . u.s.a Ivar Jacobson [Jac02a] provides a useful discussion: Agility \n",
            "  has become today’s buzzword when describing a modern software process. Everyone is agile. An agile team is a nimble team able to appropriately\n",
            "  respond to changes. Change isn't what software development is very much about. Changes in the software being built, changes to the team members,\n",
            "  changes because of new technology, https://twitter.com.  changes of all kinds that may have an impact on the product they build or the project that creates the \n",
            "  product.Support for changes should be built-in everything we do in software, something we embrace because it is the heart and soul of\n",
            "  software. An agile team recognizes that software is developed by individuals working in teams and that the skills of these people, their\n",
            "  ability to collaborate is at the core for the success of the project.In Jacobson’s view, the pervasiveness of change is the primary driver\n",
            "  for agility. Software engineers must be quick on their feet if they are to accommodate the rapid changes that Jacobson describes.  But \n",
            "  gility is more than an effective response to change. It also encompasses the philosophy espoused in the manifesto noted at the beginning\n",
            "  of this chapter. It encourages team structures and attitudes that make communication (among team members, between technologists and \n",
            "  business people, between software engineers and their managers) more facile. It emphasizes rapid delivery of operational software and \n",
            "  deemphasizes the importance of intermediate work products (not always a good thing); it adopts the customer as a part of the development \n",
            "  team and works to eliminate the “us and them” attitude that continues to pervade many software projects; it recognizes that planning in \n",
            "  an uncertain world has its limits and that a project plan must be  exible.  Agility can be applied to any software process. However, to \n",
            "  accomplish this, it is essential that the process be designed in a way that allows the project team to adapt tasks and to streamline them,\n",
            "  conduct planning in a way that understands the  uidity of an agile development approach, eliminate all but the most essential work \n",
            "  products and keep them lean, and emphasize an incremental delivery strategy that gets working software to the customer as rapidly as \n",
            "  feasible for the product type and operational environment.\n"
          ]
        }
      ]
    },
    {
      "cell_type": "markdown",
      "source": [
        "# Tokenize into Sentence"
      ],
      "metadata": {
        "id": "PyoNmRhAN3fg"
      }
    },
    {
      "cell_type": "code",
      "metadata": {
        "id": "fcHIDxs30H0i"
      },
      "source": [
        "import nltk\n",
        "sentence_list = nltk.sent_tokenize(clear_text)"
      ],
      "execution_count": null,
      "outputs": []
    },
    {
      "cell_type": "code",
      "source": [
        "sentence_list"
      ],
      "metadata": {
        "colab": {
          "base_uri": "https://localhost:8080/"
        },
        "id": "-3swMBccOBr0",
        "outputId": "3ae4e907-7edc-4693-afc9-a22ce592f80e"
      },
      "execution_count": null,
      "outputs": [
        {
          "output_type": "execute_result",
          "data": {
            "text/plain": [
              "['Just what is agility in the context of software engineering work?',\n",
              " '.',\n",
              " 'u.s.a Ivar Jacobson [Jac02a] provides a useful discussion: Agility \\n  has become today’s buzzword when describing a modern software process.',\n",
              " 'Everyone is agile.',\n",
              " 'An agile team is a nimble team able to appropriately\\n  respond to changes.',\n",
              " \"Change isn't what software development is very much about.\",\n",
              " 'Changes in the software being built, changes to the team members,\\n  changes because of new technology, https://twitter.com.',\n",
              " 'changes of all kinds that may have an impact on the product they build or the project that creates the \\n  product.Support for changes should be built-in everything we do in software, something we embrace because it is the heart and soul of\\n  software.',\n",
              " 'An agile team recognizes that software is developed by individuals working in teams and that the skills of these people, their\\n  ability to collaborate is at the core for the success of the project.In Jacobson’s view, the pervasiveness of change is the primary driver\\n  for agility.',\n",
              " 'Software engineers must be quick on their feet if they are to accommodate the rapid changes that Jacobson describes.',\n",
              " 'But \\n  gility is more than an effective response to change.',\n",
              " 'It also encompasses the philosophy espoused in the manifesto noted at the beginning\\n  of this chapter.',\n",
              " 'It encourages team structures and attitudes that make communication (among team members, between technologists and \\n  business people, between software engineers and their managers) more facile.',\n",
              " 'It emphasizes rapid delivery of operational software and \\n  deemphasizes the importance of intermediate work products (not always a good thing); it adopts the customer as a part of the development \\n  team and works to eliminate the “us and them” attitude that continues to pervade many software projects; it recognizes that planning in \\n  an uncertain world has its limits and that a project plan must be  exible.',\n",
              " 'Agility can be applied to any software process.',\n",
              " 'However, to \\n  accomplish this, it is essential that the process be designed in a way that allows the project team to adapt tasks and to streamline them,\\n  conduct planning in a way that understands the  uidity of an agile development approach, eliminate all but the most essential work \\n  products and keep them lean, and emphasize an incremental delivery strategy that gets working software to the customer as rapidly as \\n  feasible for the product type and operational environment.']"
            ]
          },
          "metadata": {},
          "execution_count": 47
        }
      ]
    },
    {
      "cell_type": "markdown",
      "source": [
        "# Expand Contractions"
      ],
      "metadata": {
        "id": "8eOxETXROEum"
      }
    },
    {
      "cell_type": "code",
      "metadata": {
        "id": "N1HHm_oq_NAx"
      },
      "source": [
        "clear_text = replace_contractions(clear_text)"
      ],
      "execution_count": null,
      "outputs": []
    },
    {
      "cell_type": "code",
      "source": [
        "clear_text"
      ],
      "metadata": {
        "colab": {
          "base_uri": "https://localhost:8080/",
          "height": 122
        },
        "id": "VWviV3uGOLK4",
        "outputId": "76afa09b-0e12-4045-b144-86afc99407e8"
      },
      "execution_count": null,
      "outputs": [
        {
          "output_type": "execute_result",
          "data": {
            "application/vnd.google.colaboratory.intrinsic+json": {
              "type": "string"
            },
            "text/plain": [
              "'just what is agility in the context of software engineering work? . u.s.a ivar jacobson [jac02a] provides a useful discussion: agility has become today’s buzzword when describing a modern software process. everyone is agile. an agile team is a nimble team able to appropriately respond to changes. change is not what software development is very much about. changes in the software being built, changes to the team members, changes because of new technology, https://twitter.com. changes of all kinds that may have an impact on the product they build or the project that creates the product.support for changes should be built-in everything we do in software, something we embrace because it is the heart and soul of software. an agile team recognizes that software is developed by individuals working in teams and that the skills of these people, their ability to collaborate is at the core for the success of the project.in jacobson’s view, the pervasiveness of change is the primary driver for agility. software engineers must be quick on their feet if they are to accommodate the rapid changes that jacobson describes. but gility is more than an effective response to change. it also encompasses the philosophy espoused in the manifesto noted at the beginning of this chapter. it encourages team structures and attitudes that make communication (among team members, between technologists and business people, between software engineers and their managers) more facile. it emphasizes rapid delivery of operational software and deemphasizes the importance of intermediate work products (not always a good thing); it adopts the customer as a part of the development team and works to eliminate the “us and them” attitude that continues to pervade many software projects; it recognizes that planning in an uncertain world has its limits and that a project plan must be exible. agility can be applied to any software process. however, to accomplish this, it is essential that the process be designed in a way that allows the project team to adapt tasks and to streamline them, conduct planning in a way that understands the uidity of an agile development approach, eliminate all but the most essential work products and keep them lean, and emphasize an incremental delivery strategy that gets working software to the customer as rapidly as feasible for the product type and operational environment.'"
            ]
          },
          "metadata": {},
          "execution_count": 49
        }
      ]
    },
    {
      "cell_type": "markdown",
      "source": [
        "# Normalize Nouns "
      ],
      "metadata": {
        "id": "IJnwLi1PUAVK"
      }
    },
    {
      "cell_type": "code",
      "source": [
        "clear_text = normalize_Nouns(clear_text)"
      ],
      "metadata": {
        "id": "BnPakxl4UEVo"
      },
      "execution_count": null,
      "outputs": []
    },
    {
      "cell_type": "code",
      "source": [
        "clear_text"
      ],
      "metadata": {
        "colab": {
          "base_uri": "https://localhost:8080/",
          "height": 122
        },
        "id": "br_3FnjIUEDx",
        "outputId": "4540fe33-f2fd-47be-8402-c5a27faea332"
      },
      "execution_count": null,
      "outputs": [
        {
          "output_type": "execute_result",
          "data": {
            "application/vnd.google.colaboratory.intrinsic+json": {
              "type": "string"
            },
            "text/plain": [
              "'just what is agility in the context of software engineering work? . united states of america ivar jacobson [jac02a] provides a useful discussion: agility has become today’s buzzword when describing a modern software process. everyone is agile. an agile team is a nimble team able to appropriately respond to changes. change is not what software development is very much about. changes in the software being built, changes to the team members, changes because of new technology, https://twitter.com. changes of all kinds that may have an impact on the product they build or the project that creates the product.support for changes should be built-in everything we do in software, something we embrace because it is the heart and soul of software. an agile team recognizes that software is developed by individuals working in teams and that the skills of these people, their ability to collaborate is at the core for the success of the project.in jacobson’s view, the pervasiveness of change is the primary driver for agility. software engineers must be quick on their feet if they are to accommodate the rapid changes that jacobson describes. but gility is more than an effective response to change. it also encompasses the philosophy espoused in the manifesto noted at the beginning of this chapter. it encourages team structures and attitudes that make communication (among team members, between technologists and business people, between software engineers and their managers) more facile. it emphasizes rapid delivery of operational software and deemphasizes the importance of intermediate work products (not always a good thing); it adopts the customer as a part of the development team and works to eliminate the “us and them” attitude that continues to pervade many software projects; it recognizes that planning in an uncertain world has its limits and that a project plan must be exible. agility canada be applied to any software process. however, to accomplish this, it is essential that the process be designed in a way that allows the project team to adapt tasks and to streamline them, conduct planning in a way that understands the uidity of an agile development approach, eliminate all but the most essential work products and keep them lean, and emphasize an incremental delivery strategy that gets working software to the customer as rapidly as feasible for the product type and operational environment.'"
            ]
          },
          "metadata": {},
          "execution_count": 51
        }
      ]
    },
    {
      "cell_type": "markdown",
      "source": [
        "# Normalize Verbs"
      ],
      "metadata": {
        "id": "Wz7qJaLRUE5C"
      }
    },
    {
      "cell_type": "code",
      "source": [
        "clear_text = normalize_Verbs(clear_text)"
      ],
      "metadata": {
        "id": "tduI6dFyUJL7"
      },
      "execution_count": null,
      "outputs": []
    },
    {
      "cell_type": "code",
      "source": [
        "clear_text"
      ],
      "metadata": {
        "colab": {
          "base_uri": "https://localhost:8080/",
          "height": 122
        },
        "id": "Kr_M954gUJDA",
        "outputId": "a824d11b-8751-4d76-9884-894b65b391c4"
      },
      "execution_count": null,
      "outputs": [
        {
          "output_type": "execute_result",
          "data": {
            "application/vnd.google.colaboratory.intrinsic+json": {
              "type": "string"
            },
            "text/plain": [
              "'just what is agility in the context of software engineering work? . united statement of america ivar jacobson [jac02a] provides a useful discussion: agility has become today’s buzzword when describing a modern software process. everyone is agile. an agile team is a nimble team able to appropriately respond to changes. change is not what software development is very much about. changes in the software being built, changes to the team members, changes because of new technology, https://twitter.com. changes of all kinds that may have an impact on the product they build or the project that creation the product.support for changes should be built-in everything we do in software, something we embrace because it is the heart and soul of software. an agile team recognizes that software is developed by individuals working in teams and that the skills of these people, their ability to collaborate is at the core for the success of the project.in jacobson’s view, the pervasiveness of change is the primary driver for agility. software engineers must be quick on their feet if they are to accommodate the rapid changes that jacobson describes. but gility is more than an effective response to change. it also encompasses the philosophy espoused in the manifesto noted at the beginning of this chapter. it encourages team structures and attitudes that make communication (among team members, between technologists and business people, between software engineers and their managers) more facile. it emphasizes rapid delivery of operational software and deemphasizes the importance of intermediate work products (not always a good thing); it adopts the customer as a part of the development team and works to eliminate the “us and them” attitude that continues to pervade many software projects; it recognizes that planning in an uncertain world has its limits and that a project plan must be exible. agility canada be applied to any software process. however, to accomplish this, it is essential that the process be designed in a way that allows the project team to adapt tasks and to streamline them, conduct planning in a way that understands the uidity of an agile development approach, eliminate all but the most essential work products and keep them lean, and emphasize an incremental delivery strategy that gets working software to the customer as rapidly as feasible for the product type and operational environment.'"
            ]
          },
          "metadata": {},
          "execution_count": 53
        }
      ]
    },
    {
      "cell_type": "markdown",
      "source": [
        "# Normalize Adjectives"
      ],
      "metadata": {
        "id": "Jh2cl-quUJsM"
      }
    },
    {
      "cell_type": "code",
      "source": [
        "clear_text = normalize_Adjectives(clear_text)"
      ],
      "metadata": {
        "id": "3OwAwcTsUP0j"
      },
      "execution_count": null,
      "outputs": []
    },
    {
      "cell_type": "code",
      "source": [
        "clear_text"
      ],
      "metadata": {
        "colab": {
          "base_uri": "https://localhost:8080/",
          "height": 122
        },
        "id": "pvg6sqqCUPoO",
        "outputId": "2eb0d3f0-a6ba-4305-ffa7-133a864974ac"
      },
      "execution_count": null,
      "outputs": [
        {
          "output_type": "execute_result",
          "data": {
            "application/vnd.google.colaboratory.intrinsic+json": {
              "type": "string"
            },
            "text/plain": [
              "'just what is agility in the context of software engineering work? . united statement of america ivar jacobson [jac02a] provides a useful discussion: agility has become today’s buzzword when describing a modern software process. everyone is agile. an agile team is a nimble team able to appropriately respond to changes. change is not what software development is very much about. changes in the software being built, changes to the team members, changes because of new technology, https://twitter.com. changes of all kinds that may have an impact on the product they build or the project that creation the product.support for changes should be built-in everything we do in software, something we embrace because it is the heart and soul of software. an agile team recognizes that software is developed by individuals working in teams and that the skills of these people, their ability to collaborate is at the core for the success of the project.in jacobson’s view, the pervasiveness of change is the primary driver for agility. software engineers must be quick on their feet if they are to accommodate the rapid changes that jacobson describes. but gility is more than an effective response to change. it also encompasses the philosophy espoused in the manifesto noted at the beginning of this chapter. it encourages team structures and attitudes that make communication (among team members, between technologists and business people, between software engineers and their managers) more facile. it emphasizes rapid delivery of operational software and deemphasizes the importance of intermediate work products (not always a good thing); it adopts the customer as a part of the development team and works to eliminate the “us and them” attitude that continues to pervade many software projects; it recognizes that planning in an uncertain world has its limits and that a project plan must be exible. agility canada be applied to any software process. however, to accomplish this, it is essential that the process be designed in a way that allows the project team to adapt tasks and to streamline them, conduct planning in a way that understands the uidity of an agile development approach, eliminate all but the most essential work products and keep them lean, and emphasize an incremental delivery strategy that gets working software to the customer as rapidly as feasible for the product type and operational environment.'"
            ]
          },
          "metadata": {},
          "execution_count": 55
        }
      ]
    },
    {
      "cell_type": "markdown",
      "source": [
        "# Remove Unwanted Characters"
      ],
      "metadata": {
        "id": "msFA3RZXOPEq"
      }
    },
    {
      "cell_type": "code",
      "metadata": {
        "id": "jI-QHT_R_ksA"
      },
      "source": [
        "clear_text = remove_unwanted_characters(clear_text)"
      ],
      "execution_count": null,
      "outputs": []
    },
    {
      "cell_type": "code",
      "source": [
        "\n",
        "clear_text"
      ],
      "metadata": {
        "colab": {
          "base_uri": "https://localhost:8080/",
          "height": 122
        },
        "id": "Zh0zbBL6OaLW",
        "outputId": "b5e87499-0021-43b6-ea38-f20878696483"
      },
      "execution_count": null,
      "outputs": [
        {
          "output_type": "execute_result",
          "data": {
            "application/vnd.google.colaboratory.intrinsic+json": {
              "type": "string"
            },
            "text/plain": [
              "'just what is agility in the context of software engineering work    united statement of america ivar jacobson  jac02a  provides a useful discussion  agility has become today’s buzzword when describing a modern software process  everyone is agile  an agile team is a nimble team able to appropriately respond to changes  change is not what software development is very much about  changes in the software being built  changes to the team members  changes because of new technology  twitter com  changes of all kinds that may have an impact on the product they build or the project that creation the product support for changes should be built in everything we do in software  something we embrace because it is the heart and soul of software  an agile team recognizes that software is developed by individuals working in teams and that the skills of these people  their ability to collaborate is at the core for the success of the project in jacobson’s view  the pervasiveness of change is the primary driver for agility  software engineers must be quick on their feet if they are to accommodate the rapid changes that jacobson describes  but gility is more than an effective response to change  it also encompasses the philosophy espoused in the manifesto noted at the beginning of this chapter  it encourages team structures and attitudes that make communication  among team members  between technologists and business people  between software engineers and their managers  more facile  it emphasizes rapid delivery of operational software and deemphasizes the importance of intermediate work products  not always a good thing   it adopts the customer as a part of the development team and works to eliminate the “us and them” attitude that continues to pervade many software projects  it recognizes that planning in an uncertain world has its limits and that a project plan must be exible  agility canada be applied to any software process  however  to accomplish this  it is essential that the process be designed in a way that allows the project team to adapt tasks and to streamline them  conduct planning in a way that understands the uidity of an agile development approach  eliminate all but the most essential work products and keep them lean  and emphasize an incremental delivery strategy that gets working software to the customer as rapidly as feasible for the product type and operational environment '"
            ]
          },
          "metadata": {},
          "execution_count": 57
        }
      ]
    },
    {
      "cell_type": "markdown",
      "source": [
        "# Remove Stop Words"
      ],
      "metadata": {
        "id": "FEPGQrghOde2"
      }
    },
    {
      "cell_type": "code",
      "source": [
        "clear_text = remove_stopwords(clear_text,stopwords)"
      ],
      "metadata": {
        "id": "HkbZgAudOdI1"
      },
      "execution_count": null,
      "outputs": []
    },
    {
      "cell_type": "code",
      "metadata": {
        "id": "mW6voo0A_khb",
        "colab": {
          "base_uri": "https://localhost:8080/",
          "height": 122
        },
        "outputId": "f9ec2a75-1b20-4448-ce36-d7c2c9462e86"
      },
      "source": [
        "clear_text"
      ],
      "execution_count": null,
      "outputs": [
        {
          "output_type": "execute_result",
          "data": {
            "application/vnd.google.colaboratory.intrinsic+json": {
              "type": "string"
            },
            "text/plain": [
              "'agility context software engineering work united statement america ivar jacobson jac02a discussion agility today’s buzzword describing modern software process agile agile team nimble team appropriately respond change software development software built team members technology twitter kinds impact product build project creation product support built software embrace heart soul software agile team recognizes software developed individuals working teams skills people ability collaborate core success project jacobson’s view pervasiveness change primary driver agility software engineers quick feet accommodate rapid jacobson describes gility effective response change encompasses philosophy espoused manifesto chapter encourages team structures attitudes communication team members technologists business people software engineers managers facile emphasizes rapid delivery operational software deemphasizes intermediate work products good thing adopts customer development team works eliminate “us them” attitude continues pervade software projects recognizes planning uncertain limits project plan exible agility canada applied software process accomplish essential process designed project team adapt tasks streamline conduct planning understands uidity agile development approach eliminate essential work products lean emphasize incremental delivery strategy working software customer rapidly feasible product type operational environment'"
            ]
          },
          "metadata": {},
          "execution_count": 59
        }
      ]
    },
    {
      "cell_type": "markdown",
      "source": [
        "# Porter Stemming"
      ],
      "metadata": {
        "id": "FxCTXPVsOokm"
      }
    },
    {
      "cell_type": "code",
      "metadata": {
        "id": "yHENaAGNSpHV"
      },
      "source": [
        "clear_text = word_stemming(clear_text)"
      ],
      "execution_count": null,
      "outputs": []
    },
    {
      "cell_type": "code",
      "source": [
        "clear_text"
      ],
      "metadata": {
        "colab": {
          "base_uri": "https://localhost:8080/",
          "height": 122
        },
        "id": "pUOsMbdoO0OF",
        "outputId": "400232fc-328f-487b-9512-d36c9035f002"
      },
      "execution_count": null,
      "outputs": [
        {
          "output_type": "execute_result",
          "data": {
            "application/vnd.google.colaboratory.intrinsic+json": {
              "type": "string"
            },
            "text/plain": [
              "'agil context softwar engin work unit statem america ivar jacobson jac02a discuss agil today’ buzzword describ modern softwar process agil agil team nimbl team appropri respond chang softwar develop softwar built team member technologi twitter kind impact product build project creat product support built softwar embrac heart soul softwar agil team recogn softwar develop individu wor team skill peopl abil collabor core success project jacobson’ view pervas chang primari driver agil softwar engin quick feet accommod rapid jacobson describ giliti effect respons chang encompass philosophi espous manifesto chapter encourag team structur attitud commun team member technologist busi peopl softwar engin manag facil emphas rapid deliveri oper softwar deemphas intermedi work product good thing adopt custom develop team work elimin “u them” attitud continu pervad softwar project recogn plan uncertain limit project plan exib agil canada appli softwar process accomplish essenti process desig project team adapt task streamlin conduct plan understand uiditi agil develop approach elimin essenti work product lean emphas increm deliveri strategi wor softwar custom rapidli feasib product type oper environ'"
            ]
          },
          "metadata": {},
          "execution_count": 61
        }
      ]
    },
    {
      "cell_type": "markdown",
      "source": [
        "# Calc Word Frequencies"
      ],
      "metadata": {
        "id": "e4fg-wPgO5Rr"
      }
    },
    {
      "cell_type": "code",
      "metadata": {
        "id": "DE37fe_12NoP"
      },
      "source": [
        "word_frequencies = {}\n",
        "count_words(word_frequencies, clear_text)"
      ],
      "execution_count": null,
      "outputs": []
    },
    {
      "cell_type": "code",
      "source": [
        "word_frequencies"
      ],
      "metadata": {
        "colab": {
          "base_uri": "https://localhost:8080/"
        },
        "id": "nKKwdKL9O--p",
        "outputId": "8ee9585f-2e19-4e11-d464-34751a42601f"
      },
      "execution_count": null,
      "outputs": [
        {
          "output_type": "execute_result",
          "data": {
            "text/plain": [
              "{'abil': 1,\n",
              " 'accommod': 1,\n",
              " 'accomplish': 1,\n",
              " 'adapt': 1,\n",
              " 'adopt': 1,\n",
              " 'agil': 8,\n",
              " 'america': 1,\n",
              " 'appli': 1,\n",
              " 'approach': 1,\n",
              " 'appropri': 1,\n",
              " 'attitud': 2,\n",
              " 'build': 1,\n",
              " 'built': 2,\n",
              " 'busi': 1,\n",
              " 'buzzword': 1,\n",
              " 'canada': 1,\n",
              " 'chang': 3,\n",
              " 'chapter': 1,\n",
              " 'collabor': 1,\n",
              " 'commun': 1,\n",
              " 'conduct': 1,\n",
              " 'context': 1,\n",
              " 'continu': 1,\n",
              " 'core': 1,\n",
              " 'creat': 1,\n",
              " 'custom': 2,\n",
              " 'deemphas': 1,\n",
              " 'deliveri': 2,\n",
              " 'describ': 2,\n",
              " 'desig': 1,\n",
              " 'develop': 4,\n",
              " 'discuss': 1,\n",
              " 'driver': 1,\n",
              " 'effect': 1,\n",
              " 'elimin': 2,\n",
              " 'embrac': 1,\n",
              " 'emphas': 2,\n",
              " 'encompass': 1,\n",
              " 'encourag': 1,\n",
              " 'engin': 3,\n",
              " 'environ': 1,\n",
              " 'espous': 1,\n",
              " 'essenti': 2,\n",
              " 'exib': 1,\n",
              " 'facil': 1,\n",
              " 'feasib': 1,\n",
              " 'feet': 1,\n",
              " 'giliti': 1,\n",
              " 'good': 1,\n",
              " 'heart': 1,\n",
              " 'impact': 1,\n",
              " 'increm': 1,\n",
              " 'individu': 1,\n",
              " 'intermedi': 1,\n",
              " 'ivar': 1,\n",
              " 'jac02a': 1,\n",
              " 'jacobson': 2,\n",
              " 'jacobson’': 1,\n",
              " 'kind': 1,\n",
              " 'lean': 1,\n",
              " 'limit': 1,\n",
              " 'manag': 1,\n",
              " 'manifesto': 1,\n",
              " 'member': 2,\n",
              " 'modern': 1,\n",
              " 'nimbl': 1,\n",
              " 'oper': 2,\n",
              " 'peopl': 2,\n",
              " 'pervad': 1,\n",
              " 'pervas': 1,\n",
              " 'philosophi': 1,\n",
              " 'plan': 3,\n",
              " 'primari': 1,\n",
              " 'process': 3,\n",
              " 'product': 5,\n",
              " 'project': 5,\n",
              " 'quick': 1,\n",
              " 'rapid': 2,\n",
              " 'rapidli': 1,\n",
              " 'recogn': 2,\n",
              " 'respond': 1,\n",
              " 'respons': 1,\n",
              " 'skill': 1,\n",
              " 'softwar': 13,\n",
              " 'soul': 1,\n",
              " 'statem': 1,\n",
              " 'strategi': 1,\n",
              " 'streamlin': 1,\n",
              " 'structur': 1,\n",
              " 'success': 1,\n",
              " 'support': 1,\n",
              " 'task': 1,\n",
              " 'team': 9,\n",
              " 'technologi': 1,\n",
              " 'technologist': 1,\n",
              " 'them”': 1,\n",
              " 'thing': 1,\n",
              " 'today’': 1,\n",
              " 'twitter': 1,\n",
              " 'type': 1,\n",
              " 'uiditi': 1,\n",
              " 'uncertain': 1,\n",
              " 'understand': 1,\n",
              " 'unit': 1,\n",
              " 'view': 1,\n",
              " 'wor': 2,\n",
              " 'work': 4,\n",
              " '“u': 1}"
            ]
          },
          "metadata": {},
          "execution_count": 63
        }
      ]
    },
    {
      "cell_type": "markdown",
      "source": [
        "# Normalize Frequencies "
      ],
      "metadata": {
        "id": "wGbbYgrMPD52"
      }
    },
    {
      "cell_type": "code",
      "metadata": {
        "id": "nh9DPp3L5K2Q"
      },
      "source": [
        "word_frequencies = get_word_frequencies(word_frequencies)"
      ],
      "execution_count": null,
      "outputs": []
    },
    {
      "cell_type": "code",
      "source": [
        "word_frequencies"
      ],
      "metadata": {
        "colab": {
          "base_uri": "https://localhost:8080/"
        },
        "id": "MOElX_zgQNnh",
        "outputId": "ff8d74b7-90e4-45de-dc71-3cf9ec5966a0"
      },
      "execution_count": null,
      "outputs": [
        {
          "output_type": "execute_result",
          "data": {
            "text/plain": [
              "{'abil': 0.07692307692307693,\n",
              " 'accommod': 0.07692307692307693,\n",
              " 'accomplish': 0.07692307692307693,\n",
              " 'adapt': 0.07692307692307693,\n",
              " 'adopt': 0.07692307692307693,\n",
              " 'agil': 0.6153846153846154,\n",
              " 'america': 0.07692307692307693,\n",
              " 'appli': 0.07692307692307693,\n",
              " 'approach': 0.07692307692307693,\n",
              " 'appropri': 0.07692307692307693,\n",
              " 'attitud': 0.15384615384615385,\n",
              " 'build': 0.07692307692307693,\n",
              " 'built': 0.15384615384615385,\n",
              " 'busi': 0.07692307692307693,\n",
              " 'buzzword': 0.07692307692307693,\n",
              " 'canada': 0.07692307692307693,\n",
              " 'chang': 0.23076923076923078,\n",
              " 'chapter': 0.07692307692307693,\n",
              " 'collabor': 0.07692307692307693,\n",
              " 'commun': 0.07692307692307693,\n",
              " 'conduct': 0.07692307692307693,\n",
              " 'context': 0.07692307692307693,\n",
              " 'continu': 0.07692307692307693,\n",
              " 'core': 0.07692307692307693,\n",
              " 'creat': 0.07692307692307693,\n",
              " 'custom': 0.15384615384615385,\n",
              " 'deemphas': 0.07692307692307693,\n",
              " 'deliveri': 0.15384615384615385,\n",
              " 'describ': 0.15384615384615385,\n",
              " 'desig': 0.07692307692307693,\n",
              " 'develop': 0.3076923076923077,\n",
              " 'discuss': 0.07692307692307693,\n",
              " 'driver': 0.07692307692307693,\n",
              " 'effect': 0.07692307692307693,\n",
              " 'elimin': 0.15384615384615385,\n",
              " 'embrac': 0.07692307692307693,\n",
              " 'emphas': 0.15384615384615385,\n",
              " 'encompass': 0.07692307692307693,\n",
              " 'encourag': 0.07692307692307693,\n",
              " 'engin': 0.23076923076923078,\n",
              " 'environ': 0.07692307692307693,\n",
              " 'espous': 0.07692307692307693,\n",
              " 'essenti': 0.15384615384615385,\n",
              " 'exib': 0.07692307692307693,\n",
              " 'facil': 0.07692307692307693,\n",
              " 'feasib': 0.07692307692307693,\n",
              " 'feet': 0.07692307692307693,\n",
              " 'giliti': 0.07692307692307693,\n",
              " 'good': 0.07692307692307693,\n",
              " 'heart': 0.07692307692307693,\n",
              " 'impact': 0.07692307692307693,\n",
              " 'increm': 0.07692307692307693,\n",
              " 'individu': 0.07692307692307693,\n",
              " 'intermedi': 0.07692307692307693,\n",
              " 'ivar': 0.07692307692307693,\n",
              " 'jac02a': 0.07692307692307693,\n",
              " 'jacobson': 0.15384615384615385,\n",
              " 'jacobson’': 0.07692307692307693,\n",
              " 'kind': 0.07692307692307693,\n",
              " 'lean': 0.07692307692307693,\n",
              " 'limit': 0.07692307692307693,\n",
              " 'manag': 0.07692307692307693,\n",
              " 'manifesto': 0.07692307692307693,\n",
              " 'member': 0.15384615384615385,\n",
              " 'modern': 0.07692307692307693,\n",
              " 'nimbl': 0.07692307692307693,\n",
              " 'oper': 0.15384615384615385,\n",
              " 'peopl': 0.15384615384615385,\n",
              " 'pervad': 0.07692307692307693,\n",
              " 'pervas': 0.07692307692307693,\n",
              " 'philosophi': 0.07692307692307693,\n",
              " 'plan': 0.23076923076923078,\n",
              " 'primari': 0.07692307692307693,\n",
              " 'process': 0.23076923076923078,\n",
              " 'product': 0.38461538461538464,\n",
              " 'project': 0.38461538461538464,\n",
              " 'quick': 0.07692307692307693,\n",
              " 'rapid': 0.15384615384615385,\n",
              " 'rapidli': 0.07692307692307693,\n",
              " 'recogn': 0.15384615384615385,\n",
              " 'respond': 0.07692307692307693,\n",
              " 'respons': 0.07692307692307693,\n",
              " 'skill': 0.07692307692307693,\n",
              " 'softwar': 1.0,\n",
              " 'soul': 0.07692307692307693,\n",
              " 'statem': 0.07692307692307693,\n",
              " 'strategi': 0.07692307692307693,\n",
              " 'streamlin': 0.07692307692307693,\n",
              " 'structur': 0.07692307692307693,\n",
              " 'success': 0.07692307692307693,\n",
              " 'support': 0.07692307692307693,\n",
              " 'task': 0.07692307692307693,\n",
              " 'team': 0.6923076923076923,\n",
              " 'technologi': 0.07692307692307693,\n",
              " 'technologist': 0.07692307692307693,\n",
              " 'them”': 0.07692307692307693,\n",
              " 'thing': 0.07692307692307693,\n",
              " 'today’': 0.07692307692307693,\n",
              " 'twitter': 0.07692307692307693,\n",
              " 'type': 0.07692307692307693,\n",
              " 'uiditi': 0.07692307692307693,\n",
              " 'uncertain': 0.07692307692307693,\n",
              " 'understand': 0.07692307692307693,\n",
              " 'unit': 0.07692307692307693,\n",
              " 'view': 0.07692307692307693,\n",
              " 'wor': 0.15384615384615385,\n",
              " 'work': 0.3076923076923077,\n",
              " '“u': 0.07692307692307693}"
            ]
          },
          "metadata": {},
          "execution_count": 65
        }
      ]
    },
    {
      "cell_type": "markdown",
      "source": [
        "# Sentence Scores"
      ],
      "metadata": {
        "id": "IX5QrOVdQQ8G"
      }
    },
    {
      "cell_type": "code",
      "metadata": {
        "id": "0k3jjKqH5M1_"
      },
      "source": [
        "sentence_scores = {}\n",
        "sentence_scores = get_sentence_scores(sentence_list,word_frequencies)"
      ],
      "execution_count": null,
      "outputs": []
    },
    {
      "cell_type": "code",
      "source": [
        "sentence_scores"
      ],
      "metadata": {
        "colab": {
          "base_uri": "https://localhost:8080/"
        },
        "id": "2ZoDhbA3TvhS",
        "outputId": "8dd99945-c0a1-4b68-9586-865e46220d28"
      },
      "execution_count": null,
      "outputs": [
        {
          "output_type": "execute_result",
          "data": {
            "text/plain": [
              "{'Agility can be applied to any software process.': 0.23076923076923078,\n",
              " 'An agile team is a nimble team able to appropriately\\n  respond to changes.': 1.4615384615384615,\n",
              " 'Changes in the software being built, changes to the team members,\\n  changes because of new technology, https://twitter.com.': 0.8461538461538461,\n",
              " 'It also encompasses the philosophy espoused in the manifesto noted at the beginning\\n  of this chapter.': 0.15384615384615385,\n",
              " 'It encourages team structures and attitudes that make communication (among team members, between technologists and \\n  business people, between software engineers and their managers) more facile.': 1.3846153846153846,\n",
              " 'Just what is agility in the context of software engineering work?': 0.38461538461538464,\n",
              " 'Software engineers must be quick on their feet if they are to accommodate the rapid changes that Jacobson describes.': 0.3076923076923077,\n",
              " 'u.s.a Ivar Jacobson [Jac02a] provides a useful discussion: Agility \\n  has become today’s buzzword when describing a modern software process.': 0.38461538461538464}"
            ]
          },
          "metadata": {},
          "execution_count": 67
        }
      ]
    },
    {
      "cell_type": "markdown",
      "source": [
        "# Get Top Sentence "
      ],
      "metadata": {
        "id": "v8t8PMZ2Tzot"
      }
    },
    {
      "cell_type": "code",
      "metadata": {
        "id": "mYOgqCLx6aCp"
      },
      "source": [
        "summary = get_summery(sentence_scores)"
      ],
      "execution_count": null,
      "outputs": []
    },
    {
      "cell_type": "markdown",
      "source": [
        "# Summary "
      ],
      "metadata": {
        "id": "pw_cmQG0T6xt"
      }
    },
    {
      "cell_type": "code",
      "metadata": {
        "colab": {
          "base_uri": "https://localhost:8080/"
        },
        "id": "Du8l_Hr69NJb",
        "outputId": "e70367a9-e378-46e5-80e6-dd788957c553"
      },
      "source": [
        "print(summary)"
      ],
      "execution_count": null,
      "outputs": [
        {
          "output_type": "stream",
          "name": "stdout",
          "text": [
            "An agile team is a nimble team able to appropriately\n",
            "  respond to changes. It encourages team structures and attitudes that make communication (among team members, between technologists and \n",
            "  business people, between software engineers and their managers) more facile. Changes in the software being built, changes to the team members,\n",
            "  changes because of new technology, https://twitter.com. Just what is agility in the context of software engineering work? u.s.a Ivar Jacobson [Jac02a] provides a useful discussion: Agility \n",
            "  has become today’s buzzword when describing a modern software process.\n"
          ]
        }
      ]
    },
    {
      "cell_type": "code",
      "metadata": {
        "id": "nctZT2ZcY4HO"
      },
      "source": [
        ""
      ],
      "execution_count": null,
      "outputs": []
    }
  ]
}